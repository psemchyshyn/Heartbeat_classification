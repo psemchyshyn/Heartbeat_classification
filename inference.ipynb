{
 "cells": [
  {
   "cell_type": "code",
   "execution_count": 17,
   "metadata": {},
   "outputs": [],
   "source": [
    "import torch\n",
    "import pandas as pd\n",
    "from torch.utils.data import DataLoader\n",
    "from dataset import MITBIH_DATASET\n",
    "from lightning import LitECG\n",
    "from sklearn.metrics import classification_report"
   ]
  },
  {
   "cell_type": "code",
   "execution_count": 19,
   "metadata": {},
   "outputs": [
    {
     "name": "stdout",
     "output_type": "stream",
     "text": [
      "Dataset length:\n",
      "61287 26267 21892\n"
     ]
    }
   ],
   "source": [
    "model = LitECG.load_from_checkpoint(\"checkpoints_rnn\\model-epoch=02-valid_loss=0.63.ckpt\")"
   ]
  },
  {
   "cell_type": "code",
   "execution_count": 15,
   "metadata": {},
   "outputs": [],
   "source": [
    "dataset = MITBIH_DATASET(\"archive/mitbih_test.csv\", test=True)"
   ]
  },
  {
   "cell_type": "code",
   "execution_count": 20,
   "metadata": {},
   "outputs": [],
   "source": [
    "dl = DataLoader(dataset, batch_size=64, shuffle=False)\n",
    "preds = []\n",
    "true = []\n",
    "for batch in dl:\n",
    "    x, y = batch\n",
    "    y_hat = model.infer(x)\n",
    "    preds += y_hat.tolist()\n",
    "    true += y.numpy().tolist()\n"
   ]
  },
  {
   "cell_type": "code",
   "execution_count": 21,
   "metadata": {},
   "outputs": [
    {
     "name": "stderr",
     "output_type": "stream",
     "text": [
      "c:\\Users\\msemc\\miniconda3\\envs\\signals\\lib\\site-packages\\sklearn\\metrics\\_classification.py:1334: UndefinedMetricWarning: Precision and F-score are ill-defined and being set to 0.0 in labels with no predicted samples. Use `zero_division` parameter to control this behavior.\n",
      "  _warn_prf(average, modifier, msg_start, len(result))\n",
      "c:\\Users\\msemc\\miniconda3\\envs\\signals\\lib\\site-packages\\sklearn\\metrics\\_classification.py:1334: UndefinedMetricWarning: Precision and F-score are ill-defined and being set to 0.0 in labels with no predicted samples. Use `zero_division` parameter to control this behavior.\n",
      "  _warn_prf(average, modifier, msg_start, len(result))\n",
      "c:\\Users\\msemc\\miniconda3\\envs\\signals\\lib\\site-packages\\sklearn\\metrics\\_classification.py:1334: UndefinedMetricWarning: Precision and F-score are ill-defined and being set to 0.0 in labels with no predicted samples. Use `zero_division` parameter to control this behavior.\n",
      "  _warn_prf(average, modifier, msg_start, len(result))\n"
     ]
    },
    {
     "data": {
      "text/plain": [
       "{'0': {'precision': 0.8300311869381765,\n",
       "  'recall': 0.9988961254001545,\n",
       "  'f1-score': 0.90666800260508,\n",
       "  'support': 18118},\n",
       " '1': {'precision': 0.0, 'recall': 0.0, 'f1-score': 0.0, 'support': 556},\n",
       " '2': {'precision': 0.375,\n",
       "  'recall': 0.022790055248618785,\n",
       "  'f1-score': 0.04296875000000001,\n",
       "  'support': 1448},\n",
       " '3': {'precision': 0.0, 'recall': 0.0, 'f1-score': 0.0, 'support': 162},\n",
       " '4': {'precision': 0.0, 'recall': 0.0, 'f1-score': 0.0, 'support': 1608},\n",
       " 'accuracy': 0.8282020829526768,\n",
       " 'macro avg': {'precision': 0.2410062373876353,\n",
       "  'recall': 0.20433723612975468,\n",
       "  'f1-score': 0.189927350521016,\n",
       "  'support': 21892},\n",
       " 'weighted avg': {'precision': 0.7117442465259401,\n",
       "  'recall': 0.8282020829526768,\n",
       "  'f1-score': 0.7532080038917797,\n",
       "  'support': 21892}}"
      ]
     },
     "execution_count": 21,
     "metadata": {},
     "output_type": "execute_result"
    }
   ],
   "source": [
    "classification_report(true, preds, output_dict=True)"
   ]
  }
 ],
 "metadata": {
  "kernelspec": {
   "display_name": "signals",
   "language": "python",
   "name": "python3"
  },
  "language_info": {
   "codemirror_mode": {
    "name": "ipython",
    "version": 3
   },
   "file_extension": ".py",
   "mimetype": "text/x-python",
   "name": "python",
   "nbconvert_exporter": "python",
   "pygments_lexer": "ipython3",
   "version": "3.8.13"
  },
  "orig_nbformat": 4,
  "vscode": {
   "interpreter": {
    "hash": "aeec8953958d7c3859e8686494a658ed02c31e70fcc1e160b4386bc2c228fc4c"
   }
  }
 },
 "nbformat": 4,
 "nbformat_minor": 2
}
